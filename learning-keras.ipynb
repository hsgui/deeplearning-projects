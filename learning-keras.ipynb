{
 "cells": [
  {
   "cell_type": "markdown",
   "metadata": {},
   "source": [
    "## Reference:\n",
    "\n",
    "https://github.com/keras-team/keras/blob/master/keras/backend/tensorflow_backend.py\n",
    "\n",
    "https://www.tensorflow.org/versions/master/api_docs/python/tf/matmul"
   ]
  },
  {
   "cell_type": "code",
   "execution_count": 1,
   "metadata": {},
   "outputs": [
    {
     "name": "stderr",
     "output_type": "stream",
     "text": [
      "Using TensorFlow backend.\n"
     ]
    }
   ],
   "source": [
    "from keras import backend as K\n",
    "K.set_image_data_format('channels_last')\n",
    "\n",
    "from keras.utils import to_categorical\n",
    "import numpy as np\n",
    "\n",
    "import tensorflow as tf\n",
    "from keras import initializers, layers"
   ]
  },
  {
   "cell_type": "markdown",
   "metadata": {},
   "source": [
    "## K.expand_dims"
   ]
  },
  {
   "cell_type": "code",
   "execution_count": 2,
   "metadata": {},
   "outputs": [
    {
     "name": "stdout",
     "output_type": "stream",
     "text": [
      "<tf.Variable 'Variable:0' shape=(2, 3) dtype=float32_ref>\n"
     ]
    }
   ],
   "source": [
    "v_1 = K.random_normal_variable(shape=(2, 3), mean=0, scale=1)\n",
    "print(v_1)"
   ]
  },
  {
   "cell_type": "code",
   "execution_count": 5,
   "metadata": {},
   "outputs": [
    {
     "name": "stdout",
     "output_type": "stream",
     "text": [
      "K.eval: \n",
      " [[ 1.18456972  0.50871342  2.24240661]\n",
      " [ 0.63519263 -1.73597264  1.11316562]]\n",
      "K.get_value should be the same as K.eval: \n",
      " [[ 1.18456972  0.50871342  2.24240661]\n",
      " [ 0.63519263 -1.73597264  1.11316562]]\n"
     ]
    }
   ],
   "source": [
    "print(\"K.eval: \\n\",K.eval(v_1))\n",
    "print(\"K.get_value should be the same as K.eval: \\n\", K.get_value(v_1))"
   ]
  },
  {
   "cell_type": "code",
   "execution_count": 10,
   "metadata": {},
   "outputs": [
    {
     "name": "stdout",
     "output_type": "stream",
     "text": [
      "expand dims at 0, shape becomes to:  (1, 2, 3)\n",
      "expand dims at 0: \n",
      " [[[ 1.18456972  0.50871342  2.24240661]\n",
      "  [ 0.63519263 -1.73597264  1.11316562]]]\n"
     ]
    }
   ],
   "source": [
    "v_1_expand = K.expand_dims(v_1, axis=0)\n",
    "print(\"expand dims at 0, shape becomes to: \", v_1_expand.get_shape())\n",
    "print(\"expand dims at 0: \\n\", K.get_value(v_1_expand))"
   ]
  },
  {
   "cell_type": "code",
   "execution_count": 9,
   "metadata": {},
   "outputs": [
    {
     "name": "stdout",
     "output_type": "stream",
     "text": [
      "expand dims at 1, shape becomes to:  (2, 1, 3)\n",
      "expand dims at 1: \n",
      " [[[ 1.18456972  0.50871342  2.24240661]]\n",
      "\n",
      " [[ 0.63519263 -1.73597264  1.11316562]]]\n"
     ]
    }
   ],
   "source": [
    "v_1_expand2 = K.expand_dims(v_1, axis=1)\n",
    "print(\"expand dims at 1, shape becomes to: \", v_1_expand2.get_shape())\n",
    "print(\"expand dims at 1: \\n\", K.eval(v_1_expand2))"
   ]
  },
  {
   "cell_type": "code",
   "execution_count": 11,
   "metadata": {},
   "outputs": [
    {
     "name": "stdout",
     "output_type": "stream",
     "text": [
      "expand dims at 2, shape becomes to:  (2, 3, 1)\n",
      "expand dims at 2: \n",
      " [[[ 1.18456972]\n",
      "  [ 0.50871342]\n",
      "  [ 2.24240661]]\n",
      "\n",
      " [[ 0.63519263]\n",
      "  [-1.73597264]\n",
      "  [ 1.11316562]]]\n"
     ]
    }
   ],
   "source": [
    "v_1_expand3 = K.expand_dims(v_1, axis=2)\n",
    "print(\"expand dims at 2, shape becomes to: \", v_1_expand3.get_shape())\n",
    "print(\"expand dims at 2: \\n\", K.eval(v_1_expand3))"
   ]
  },
  {
   "cell_type": "markdown",
   "metadata": {},
   "source": [
    "## K.batch_dot"
   ]
  },
  {
   "cell_type": "code",
   "execution_count": 21,
   "metadata": {},
   "outputs": [
    {
     "name": "stdout",
     "output_type": "stream",
     "text": [
      "shape of v_2:  (2, 2)\n",
      "K shape of v2:  Tensor(\"Shape_3:0\", shape=(2,), dtype=int32)\n"
     ]
    }
   ],
   "source": [
    "v_2 = K.variable(value = np.array([[1, 2], [3, 4]]), dtype='float64')\n",
    "print(\"shape of v_2: \", v_2.get_shape())\n",
    "print(\"K shape of v2: \", K.shape(v_2))"
   ]
  },
  {
   "cell_type": "code",
   "execution_count": 19,
   "metadata": {},
   "outputs": [
    {
     "name": "stdout",
     "output_type": "stream",
     "text": [
      "ndim of v2:  2\n"
     ]
    }
   ],
   "source": [
    "print(\"ndim of v2: \", K.ndim(v_2))"
   ]
  },
  {
   "cell_type": "code",
   "execution_count": 20,
   "metadata": {},
   "outputs": [
    {
     "name": "stdout",
     "output_type": "stream",
     "text": [
      "<tf.Variable 'Variable_4:0' shape=(32, 20) dtype=float32_ref>\n"
     ]
    }
   ],
   "source": [
    "v_3 = K.ones(shape=(32, 20))\n",
    "print(v_3)"
   ]
  },
  {
   "cell_type": "code",
   "execution_count": 26,
   "metadata": {},
   "outputs": [
    {
     "name": "stdout",
     "output_type": "stream",
     "text": [
      "Tensor(\"concat_3:0\", shape=(3,), dtype=int32)\n",
      "get_shape:  (3,)\n",
      "value of shape:  [32 20  1]\n"
     ]
    }
   ],
   "source": [
    "shape_1 = tf.concat([K.shape(v_3), [1] * 1], axis=0)\n",
    "print(shape_1)\n",
    "print(\"get_shape: \", shape_1.get_shape())\n",
    "print(\"value of shape: \", K.get_value(shape_1))"
   ]
  },
  {
   "cell_type": "code",
   "execution_count": 27,
   "metadata": {},
   "outputs": [
    {
     "name": "stdout",
     "output_type": "stream",
     "text": [
      "v3's new shape:  (32, 20, 1)\n"
     ]
    }
   ],
   "source": [
    "v_3_reshape = tf.reshape(v_3, shape_1)\n",
    "print(\"v3's new shape: \", v_3_reshape.get_shape())"
   ]
  },
  {
   "cell_type": "code",
   "execution_count": 29,
   "metadata": {},
   "outputs": [
    {
     "name": "stdout",
     "output_type": "stream",
     "text": [
      "v4 shape:  (32, 30, 20)\n"
     ]
    }
   ],
   "source": [
    "v4 = K.ones(shape=(32, 30, 20))\n",
    "print(\"v4 shape: \", v4.get_shape())"
   ]
  },
  {
   "cell_type": "code",
   "execution_count": 36,
   "metadata": {},
   "outputs": [
    {
     "name": "stdout",
     "output_type": "stream",
     "text": [
      "shape of v6:  (32, 1, 30)\n"
     ]
    }
   ],
   "source": [
    "v6 = K.batch_dot(v_3_reshape, v4, axes=[1, 2])\n",
    "print(\"shape of v6: \", K.int_shape(v6))"
   ]
  },
  {
   "cell_type": "markdown",
   "metadata": {},
   "source": [
    "## K.tile"
   ]
  },
  {
   "cell_type": "code",
   "execution_count": 38,
   "metadata": {},
   "outputs": [
    {
     "name": "stdout",
     "output_type": "stream",
     "text": [
      "shape of v7:  (1, 2)\n"
     ]
    }
   ],
   "source": [
    "v7 = K.variable(np.array([[1, 2]]), dtype='float64')\n",
    "print(\"shape of v7: \", v7.get_shape())"
   ]
  },
  {
   "cell_type": "code",
   "execution_count": 42,
   "metadata": {},
   "outputs": [
    {
     "name": "stdout",
     "output_type": "stream",
     "text": [
      "shape of v8:  (3, 2)\n",
      "v8: \n",
      " [[ 1.  2.]\n",
      " [ 1.  2.]\n",
      " [ 1.  2.]]\n"
     ]
    }
   ],
   "source": [
    "v8 = K.tile(v7, [3, 1])\n",
    "print(\"shape of v8: \", v8.get_shape())\n",
    "print(\"v8: \\n\", K.get_value(v8))"
   ]
  },
  {
   "cell_type": "code",
   "execution_count": 43,
   "metadata": {},
   "outputs": [
    {
     "name": "stdout",
     "output_type": "stream",
     "text": [
      "shape of v9:  (3, 8)\n",
      "v9: \n",
      " [[ 1.  2.  1.  2.  1.  2.  1.  2.]\n",
      " [ 1.  2.  1.  2.  1.  2.  1.  2.]\n",
      " [ 1.  2.  1.  2.  1.  2.  1.  2.]]\n"
     ]
    }
   ],
   "source": [
    "v9 = K.tile(v7, [3, 4])\n",
    "print(\"shape of v9: \", v9.get_shape())\n",
    "print(\"v9: \\n\", K.get_value(v9))"
   ]
  }
 ],
 "metadata": {
  "kernelspec": {
   "display_name": "Python 3",
   "language": "python",
   "name": "python3"
  },
  "language_info": {
   "codemirror_mode": {
    "name": "ipython",
    "version": 3
   },
   "file_extension": ".py",
   "mimetype": "text/x-python",
   "name": "python",
   "nbconvert_exporter": "python",
   "pygments_lexer": "ipython3",
   "version": "3.6.3"
  }
 },
 "nbformat": 4,
 "nbformat_minor": 2
}
