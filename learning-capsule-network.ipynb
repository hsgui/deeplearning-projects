{
 "cells": [
  {
   "cell_type": "markdown",
   "metadata": {},
   "source": [
    "## Reference\n",
    "\n",
    "https://github.com/XifengGuo/CapsNet-Keras/blob/master/capsulelayers.py\n",
    "https://github.com/XifengGuo/CapsNet-Keras/blob/master/capsulenet.py\n",
    "https://github.com/XifengGuo/CapsNet-Keras/blob/master/utils.py\n",
    "\n",
    "https://github.com/naturomics/CapsNet-Tensorflow/blob/master/capsLayer.py\n",
    "https://github.com/naturomics/CapsNet-Tensorflow/blob/master/capsNet.py\n",
    "https://github.com/naturomics/CapsNet-Tensorflow/blob/master/main.py"
   ]
  },
  {
   "cell_type": "code",
   "execution_count": 1,
   "metadata": {},
   "outputs": [
    {
     "name": "stderr",
     "output_type": "stream",
     "text": [
      "Using TensorFlow backend.\n"
     ]
    }
   ],
   "source": [
    "from keras import backend as K\n",
    "K.set_image_data_format('channels_last')"
   ]
  },
  {
   "cell_type": "code",
   "execution_count": 2,
   "metadata": {},
   "outputs": [],
   "source": [
    "from keras.utils import to_categorical\n",
    "import numpy as np"
   ]
  },
  {
   "cell_type": "markdown",
   "metadata": {},
   "source": [
    "## to_categorical"
   ]
  },
  {
   "cell_type": "code",
   "execution_count": 4,
   "metadata": {},
   "outputs": [],
   "source": [
    "a = np.array([3, 5, 7])"
   ]
  },
  {
   "cell_type": "code",
   "execution_count": 5,
   "metadata": {},
   "outputs": [
    {
     "data": {
      "text/plain": [
       "array([[ 0.,  0.,  0.,  1.,  0.,  0.,  0.,  0.],\n",
       "       [ 0.,  0.,  0.,  0.,  0.,  1.,  0.,  0.],\n",
       "       [ 0.,  0.,  0.,  0.,  0.,  0.,  0.,  1.]])"
      ]
     },
     "execution_count": 5,
     "metadata": {},
     "output_type": "execute_result"
    }
   ],
   "source": [
    "to_categorical(a)"
   ]
  },
  {
   "cell_type": "code",
   "execution_count": 3,
   "metadata": {},
   "outputs": [],
   "source": [
    "def load_mnist():\n",
    "    # the data, shuffled and split between train and test sets\n",
    "    from keras.datasets import mnist\n",
    "    (x_train, y_train), (x_test, y_test) = mnist.load_data()\n",
    "\n",
    "    print(\"\\noriginal size of x_train:\", x_train.shape)\n",
    "    print(\"original size of y_train:\", y_train.shape)\n",
    "    \n",
    "    x_train = x_train.reshape(-1, 28, 28, 1).astype('float32') / 255.\n",
    "    x_test = x_test.reshape(-1, 28, 28, 1).astype('float32') / 255.\n",
    "    y_train = to_categorical(y_train.astype('float32'))\n",
    "    y_test = to_categorical(y_test.astype('float32'))\n",
    "    \n",
    "    print(\"translated size of x_train:\", x_train.shape)\n",
    "    print(\"translated size of y_train:\", y_train.shape)\n",
    "    \n",
    "    return (x_train, y_train), (x_test, y_test)"
   ]
  },
  {
   "cell_type": "code",
   "execution_count": 4,
   "metadata": {},
   "outputs": [
    {
     "name": "stdout",
     "output_type": "stream",
     "text": [
      "\n",
      "original size of x_train: (60000, 28, 28)\n",
      "original size of y_train: (60000,)\n",
      "translated size of x_train: (60000, 28, 28, 1)\n",
      "translated size of y_train: (60000, 10)\n"
     ]
    }
   ],
   "source": [
    "(x_train, y_train), (x_test, y_test) = load_mnist()"
   ]
  },
  {
   "cell_type": "code",
   "execution_count": 10,
   "metadata": {},
   "outputs": [
    {
     "name": "stdout",
     "output_type": "stream",
     "text": [
      "(28, 28, 1)\n"
     ]
    }
   ],
   "source": [
    "print(x_train.shape[1:])"
   ]
  },
  {
   "cell_type": "code",
   "execution_count": 5,
   "metadata": {},
   "outputs": [],
   "source": [
    "import tensorflow as tf\n",
    "from keras import initializers, layers"
   ]
  },
  {
   "cell_type": "markdown",
   "metadata": {},
   "source": [
    "## layers.Reshape\n",
    "\n",
    "target_shape **doesn't** include the batch axis"
   ]
  },
  {
   "cell_type": "code",
   "execution_count": 16,
   "metadata": {},
   "outputs": [
    {
     "name": "stdout",
     "output_type": "stream",
     "text": [
      "(?, 12)\n"
     ]
    }
   ],
   "source": [
    "a11 = layers.Input(shape=(12,))\n",
    "print(a11.get_shape())"
   ]
  },
  {
   "cell_type": "code",
   "execution_count": 21,
   "metadata": {},
   "outputs": [
    {
     "name": "stdout",
     "output_type": "stream",
     "text": [
      "Tensor(\"reshape_6/Reshape:0\", shape=(?, 4, 3), dtype=float32)\n",
      "(?, 4, 3)\n"
     ]
    }
   ],
   "source": [
    "a16 = layers.Reshape(target_shape=(-1, 3), input_shape=(12,))(a11) # input_shape doesn't include batch axis either\n",
    "print(a16)\n",
    "print(a16.get_shape())"
   ]
  },
  {
   "cell_type": "markdown",
   "metadata": {},
   "source": [
    "## squash"
   ]
  },
  {
   "cell_type": "code",
   "execution_count": 6,
   "metadata": {},
   "outputs": [],
   "source": [
    "def squash(vectors, axis = -1):\n",
    "    s_squared_sum = K.sum(K.square(vectors), axis=axis, keepdims=True)\n",
    "    scale = s_squared_sum / (1 + s_squared_sum) / K.sqrt(s_squared_sum + K.epsilon())\n",
    "    return scale * vectors"
   ]
  },
  {
   "cell_type": "code",
   "execution_count": 23,
   "metadata": {},
   "outputs": [
    {
     "name": "stdout",
     "output_type": "stream",
     "text": [
      "(2, 5, 8)\n"
     ]
    }
   ],
   "source": [
    "a22 = np.random.rand(2, 5, 8)\n",
    "print(a22.shape)"
   ]
  },
  {
   "cell_type": "code",
   "execution_count": 32,
   "metadata": {},
   "outputs": [
    {
     "name": "stdout",
     "output_type": "stream",
     "text": [
      "original shape:  (2, 5, 8)\n",
      "shape with keepdims:  (2, 5, 1)\n",
      "shape without keepdims:  (2, 5)\n"
     ]
    }
   ],
   "source": [
    "a23_1 = K.square(a22)\n",
    "print(\"original shape: \", a23_1.shape)\n",
    "a23_2 = K.sum(a23_1, axis = -1, keepdims=True)\n",
    "print(\"shape with keepdims: \", a23_2.shape)\n",
    "a23_3 = K.sum(a23_1, axis= -1)\n",
    "print(\"shape without keepdims: \", a23_3.shape)"
   ]
  },
  {
   "cell_type": "code",
   "execution_count": 7,
   "metadata": {},
   "outputs": [],
   "source": [
    "def PrimaryCapsule(inputs, dim_capsule, num_channels, kernel_size, strides, padding):\n",
    "    output = layers.Conv2D(filters = dim_capsule * num_channels, kernel_size = kernel_size,\n",
    "                          strides = strides, padding=padding, name='primarycap_conv2d')(inputs)\n",
    "    outputs = layers.Reshape(target_shape=[-1, dim_capsule], name='primarycap_reshape')(output)\n",
    "    return layers.Lambda(squash, name='primarycap_squash')(outputs)"
   ]
  },
  {
   "cell_type": "code",
   "execution_count": 8,
   "metadata": {},
   "outputs": [
    {
     "name": "stdout",
     "output_type": "stream",
     "text": [
      "input shape:  (28, 28, 1)\n"
     ]
    }
   ],
   "source": [
    "input_shape = x_train.shape[1:]\n",
    "print(\"input shape: \", input_shape)"
   ]
  },
  {
   "cell_type": "code",
   "execution_count": 9,
   "metadata": {},
   "outputs": [
    {
     "name": "stdout",
     "output_type": "stream",
     "text": [
      "class number:  10\n"
     ]
    }
   ],
   "source": [
    "n_class = len(np.unique(np.argmax(y_train, 1)))\n",
    "print(\"class number: \", n_class)"
   ]
  },
  {
   "cell_type": "markdown",
   "metadata": {},
   "source": [
    "## hyper parameters"
   ]
  },
  {
   "cell_type": "code",
   "execution_count": 10,
   "metadata": {},
   "outputs": [],
   "source": [
    "# number of iterations used in routing algorithm.\n",
    "routings = 3\n",
    "learning_rate = 0.001\n",
    "batch_size = 100\n",
    "epochs = 10\n",
    "learning_rate_decay = 0.9\n",
    "lam_recon = 0.392\n",
    "save_dir = './capnet_result'"
   ]
  },
  {
   "cell_type": "markdown",
   "metadata": {},
   "source": [
    "## Create Model"
   ]
  },
  {
   "cell_type": "code",
   "execution_count": 11,
   "metadata": {},
   "outputs": [
    {
     "name": "stdout",
     "output_type": "stream",
     "text": [
      "(?, 28, 28, 1)\n"
     ]
    }
   ],
   "source": [
    "x = layers.Input(shape=input_shape)\n",
    "print(x.get_shape())"
   ]
  },
  {
   "cell_type": "code",
   "execution_count": 12,
   "metadata": {},
   "outputs": [
    {
     "name": "stdout",
     "output_type": "stream",
     "text": [
      "(?, 20, 20, 256)\n"
     ]
    }
   ],
   "source": [
    "# Layer 1: Conv2D layer\n",
    "conv1 = layers.Conv2D(filters=256, kernel_size=9, strides=1, padding='valid', activation='relu', name='conv1')(x)\n",
    "print(conv1.get_shape())"
   ]
  },
  {
   "cell_type": "code",
   "execution_count": 13,
   "metadata": {},
   "outputs": [
    {
     "name": "stdout",
     "output_type": "stream",
     "text": [
      "(?, 1152, 8)\n"
     ]
    }
   ],
   "source": [
    "# layer 2: primary capsule layer (conv2d layer)\n",
    "primarycaps = PrimaryCapsule(conv1, dim_capsule=8, num_channels=32, kernel_size=9, strides=2, padding='valid')\n",
    "print(primarycaps.get_shape())"
   ]
  },
  {
   "cell_type": "markdown",
   "metadata": {},
   "source": [
    "### Create Capsule layer"
   ]
  },
  {
   "cell_type": "markdown",
   "metadata": {},
   "source": [
    "### Dynamic routing algorithm"
   ]
  },
  {
   "cell_type": "markdown",
   "metadata": {},
   "source": [
    "## Utility layers"
   ]
  },
  {
   "cell_type": "code",
   "execution_count": 14,
   "metadata": {},
   "outputs": [],
   "source": [
    "class Length(layers.Layer):\n",
    "    \"\"\"\n",
    "    Compute the length of vectors. This is used to compute a Tensor that has the same shape with y_true in margin_loss.\n",
    "    Using this layer as model's output can directly predict labels by using `y_pred = np.argmax(model.predict(x), 1)`\n",
    "    inputs: shape=[None, num_vectors, dim_vector]\n",
    "    output: shape=[None, num_vectors]\n",
    "    \"\"\"\n",
    "    def call(self, inputs, **kwargs):\n",
    "        return K.sqrt(K.sum(K.square(inputs), -1))\n",
    "\n",
    "    def compute_output_shape(self, input_shape):\n",
    "        return input_shape[:-1]"
   ]
  },
  {
   "cell_type": "code",
   "execution_count": 15,
   "metadata": {},
   "outputs": [],
   "source": [
    "class Mask(layers.Layer):\n",
    "    \"\"\"\n",
    "    Mask a Tensor with shape=[None, num_capsule, dim_vector] either by the capsule with max length or by an additional \n",
    "    input mask. Except the max-length capsule (or specified capsule), all vectors are masked to zeros. Then flatten the\n",
    "    masked Tensor.\n",
    "    For example:\n",
    "        ```\n",
    "        x = keras.layers.Input(shape=[8, 3, 2])  # batch_size=8, each sample contains 3 capsules with dim_vector=2\n",
    "        y = keras.layers.Input(shape=[8, 3])  # True labels. 8 samples, 3 classes, one-hot coding.\n",
    "        out = Mask()(x)  # out.shape=[8, 6]\n",
    "        # or\n",
    "        out2 = Mask()([x, y])  # out2.shape=[8,6]. Masked with true labels y. Of course y can also be manipulated.\n",
    "        ```\n",
    "    \"\"\"\n",
    "    def call(self, inputs, **kwargs):\n",
    "        if type(inputs) is list:  # true label is provided with shape = [None, n_classes], i.e. one-hot code.\n",
    "            assert len(inputs) == 2\n",
    "            inputs, mask = inputs\n",
    "        else:  # if no true label, mask by the max length of capsules. Mainly used for prediction\n",
    "            # compute lengths of capsules\n",
    "            x = K.sqrt(K.sum(K.square(inputs), -1))\n",
    "            # generate the mask which is a one-hot code.\n",
    "            # mask.shape=[None, n_classes]=[None, num_capsule]\n",
    "            mask = K.one_hot(indices=K.argmax(x, 1), num_classes=x.get_shape().as_list()[1])\n",
    "\n",
    "        # inputs.shape=[None, num_capsule, dim_capsule]\n",
    "        # mask.shape=[None, num_capsule]\n",
    "        # masked.shape=[None, num_capsule * dim_capsule]\n",
    "        masked = K.batch_flatten(inputs * K.expand_dims(mask, -1))\n",
    "        return masked\n",
    "\n",
    "    def compute_output_shape(self, input_shape):\n",
    "        if type(input_shape[0]) is tuple:  # true label provided\n",
    "            return tuple([None, input_shape[0][1] * input_shape[0][2]])\n",
    "        else:  # no true label provided\n",
    "            return tuple([None, input_shape[1] * input_shape[2]])"
   ]
  },
  {
   "cell_type": "code",
   "execution_count": 16,
   "metadata": {},
   "outputs": [],
   "source": [
    "class CapsuleLayer(layers.Layer):\n",
    "    \"\"\"\n",
    "    The capsule layer. It is similar to Dense layer. Dense layer has `in_num` inputs, each is a scalar, the output of the \n",
    "    neuron from the former layer, and it has `out_num` output neurons. CapsuleLayer just expand the output of the neuron\n",
    "    from scalar to vector. So its input shape = [None, input_num_capsule, input_dim_capsule] and output shape = \\\n",
    "    [None, num_capsule, dim_capsule]. For Dense Layer, input_dim_capsule = dim_capsule = 1.\n",
    "    \n",
    "    :param num_capsule: number of capsules in this layer\n",
    "    :param dim_capsule: dimension of the output vectors of the capsules in this layer\n",
    "    :param routings: number of iterations for the routing algorithm\n",
    "    \"\"\"\n",
    "    def __init__(self, num_capsule, dim_capsule, routings=3,\n",
    "                 kernel_initializer='glorot_uniform',\n",
    "                 **kwargs):\n",
    "        super(CapsuleLayer, self).__init__(**kwargs)\n",
    "        self.num_capsule = num_capsule\n",
    "        self.dim_capsule = dim_capsule\n",
    "        self.routings = routings\n",
    "        self.kernel_initializer = initializers.get(kernel_initializer)\n",
    "\n",
    "    def build(self, input_shape):\n",
    "        assert len(input_shape) >= 3, \"The input Tensor should have shape=[None, input_num_capsule, input_dim_capsule]\"\n",
    "        self.input_num_capsule = input_shape[1]\n",
    "        self.input_dim_capsule = input_shape[2]\n",
    "\n",
    "        # Transform matrix\n",
    "        self.W = self.add_weight(shape=[self.num_capsule, self.input_num_capsule,\n",
    "                                        self.dim_capsule, self.input_dim_capsule],\n",
    "                                 initializer=self.kernel_initializer,\n",
    "                                 name='W')\n",
    "\n",
    "        self.built = True\n",
    "\n",
    "    def call(self, inputs, training=None):\n",
    "        # inputs.shape=[None, input_num_capsule, input_dim_capsule]\n",
    "        # inputs_expand.shape=[None, 1, input_num_capsule, input_dim_capsule]\n",
    "        inputs_expand = K.expand_dims(inputs, 1)\n",
    "\n",
    "        # Replicate num_capsule dimension to prepare being multiplied by W\n",
    "        # inputs_tiled.shape=[None, num_capsule, input_num_capsule, input_dim_capsule]\n",
    "        inputs_tiled = K.tile(inputs_expand, [1, self.num_capsule, 1, 1])\n",
    "\n",
    "        # Compute `inputs * W` by scanning inputs_tiled on dimension 0.\n",
    "        # x.shape=[num_capsule, input_num_capsule, input_dim_capsule]\n",
    "        # W.shape=[num_capsule, input_num_capsule, dim_capsule, input_dim_capsule]\n",
    "        # Regard the first two dimensions as `batch` dimension,\n",
    "        # then matmul: [input_dim_capsule] x [dim_capsule, input_dim_capsule]^T -> [dim_capsule].\n",
    "        # inputs_hat.shape = [None, num_capsule, input_num_capsule, dim_capsule]\n",
    "        inputs_hat = K.map_fn(lambda x: K.batch_dot(x, self.W, [2, 3]), elems=inputs_tiled)\n",
    "\n",
    "        # Begin: Routing algorithm ---------------------------------------------------------------------#\n",
    "        # The prior for coupling coefficient, initialized as zeros.\n",
    "        # b.shape = [None, self.num_capsule, self.input_num_capsule].\n",
    "        b = tf.zeros(shape=[K.shape(inputs_hat)[0], self.num_capsule, self.input_num_capsule])\n",
    "\n",
    "        assert self.routings > 0, 'The routings should be > 0.'\n",
    "        for i in range(self.routings):\n",
    "            # c.shape=[batch_size, num_capsule, input_num_capsule]\n",
    "            c = tf.nn.softmax(b, dim=1)\n",
    "\n",
    "            # c.shape =  [batch_size, num_capsule, input_num_capsule]\n",
    "            # inputs_hat.shape=[None, num_capsule, input_num_capsule, dim_capsule]\n",
    "            # The first two dimensions as `batch` dimension,\n",
    "            # then matmal: [input_num_capsule] x [input_num_capsule, dim_capsule] -> [dim_capsule].\n",
    "            # outputs.shape=[None, num_capsule, dim_capsule]\n",
    "            outputs = squash(K.batch_dot(c, inputs_hat, [2, 2]))  # [None, 10, 16]\n",
    "\n",
    "            if i < self.routings - 1:\n",
    "                # outputs.shape =  [None, num_capsule, dim_capsule]\n",
    "                # inputs_hat.shape=[None, num_capsule, input_num_capsule, dim_capsule]\n",
    "                # The first two dimensions as `batch` dimension,\n",
    "                # then matmal: [dim_capsule] x [input_num_capsule, dim_capsule]^T -> [input_num_capsule].\n",
    "                # b.shape=[batch_size, num_capsule, input_num_capsule]\n",
    "                b += K.batch_dot(outputs, inputs_hat, [2, 3])\n",
    "        # End: Routing algorithm -----------------------------------------------------------------------#\n",
    "\n",
    "        return outputs\n",
    "\n",
    "    def compute_output_shape(self, input_shape):\n",
    "        return tuple([None, self.num_capsule, self.dim_capsule])"
   ]
  },
  {
   "cell_type": "code",
   "execution_count": 17,
   "metadata": {},
   "outputs": [],
   "source": [
    "digitCaps = CapsuleLayer(num_capsule = n_class, dim_capsule=16, routings=routings, name='digitcaps')(primarycaps)"
   ]
  },
  {
   "cell_type": "code",
   "execution_count": 18,
   "metadata": {},
   "outputs": [
    {
     "name": "stdout",
     "output_type": "stream",
     "text": [
      "(?, 10, 16)\n"
     ]
    }
   ],
   "source": [
    "print(digitCaps.get_shape())"
   ]
  },
  {
   "cell_type": "code",
   "execution_count": 19,
   "metadata": {},
   "outputs": [
    {
     "name": "stdout",
     "output_type": "stream",
     "text": [
      "output capsule length shape:  (?, 10)\n"
     ]
    }
   ],
   "source": [
    "out_caps = Length(name='capsnet')(digitCaps)\n",
    "print('output capsule length shape: ', out_caps.get_shape())"
   ]
  },
  {
   "cell_type": "markdown",
   "metadata": {},
   "source": [
    "### decoder network"
   ]
  },
  {
   "cell_type": "code",
   "execution_count": 20,
   "metadata": {},
   "outputs": [
    {
     "name": "stdout",
     "output_type": "stream",
     "text": [
      "masked y shape:  (?, ?) (?, ?)\n"
     ]
    }
   ],
   "source": [
    "y = layers.Input(shape=(n_class,)) # the true label\n",
    "masked_by_y = Mask()([digitCaps, y]) # for training\n",
    "masked = Mask()(digitCaps) # Mask using the capsule with maximal length. For prediction\n",
    "print('masked y shape: ', masked.get_shape(), masked_by_y.get_shape())"
   ]
  },
  {
   "cell_type": "code",
   "execution_count": 21,
   "metadata": {},
   "outputs": [],
   "source": [
    "from keras import models, optimizers\n",
    "decoder = models.Sequential(name='decoder')\n",
    "decoder.add(layers.Dense(512, activation='relu', input_dim = 16 * n_class))\n",
    "decoder.add(layers.Dense(1024, activation='relu'))\n",
    "decoder.add(layers.Dense(np.prod(input_shape), activation='sigmoid'))\n",
    "decoder.add(layers.Reshape(target_shape=input_shape, name='out_recon'))"
   ]
  },
  {
   "cell_type": "code",
   "execution_count": 22,
   "metadata": {},
   "outputs": [],
   "source": [
    "train_model = models.Model([x, y], [out_caps, decoder(masked_by_y)])\n",
    "eval_model = models.Model(x, [out_caps, decoder(masked)])"
   ]
  },
  {
   "cell_type": "code",
   "execution_count": 23,
   "metadata": {},
   "outputs": [],
   "source": [
    "# manipulate model\n",
    "noise = layers.Input(shape=(n_class, 16))\n",
    "noised_digitcaps = layers.Add()([digitCaps, noise])\n",
    "masked_noised_y = Mask()([digitCaps, y])\n",
    "manipulate_model = models.Model([x, y, noise], decoder(masked_noised_y))"
   ]
  },
  {
   "cell_type": "code",
   "execution_count": 24,
   "metadata": {
    "scrolled": true
   },
   "outputs": [
    {
     "name": "stdout",
     "output_type": "stream",
     "text": [
      "____________________________________________________________________________________________________\n",
      "Layer (type)                     Output Shape          Param #     Connected to                     \n",
      "====================================================================================================\n",
      "input_1 (InputLayer)             (None, 28, 28, 1)     0                                            \n",
      "____________________________________________________________________________________________________\n",
      "conv1 (Conv2D)                   (None, 20, 20, 256)   20992       input_1[0][0]                    \n",
      "____________________________________________________________________________________________________\n",
      "primarycap_conv2d (Conv2D)       (None, 6, 6, 256)     5308672     conv1[0][0]                      \n",
      "____________________________________________________________________________________________________\n",
      "primarycap_reshape (Reshape)     (None, 1152, 8)       0           primarycap_conv2d[0][0]          \n",
      "____________________________________________________________________________________________________\n",
      "primarycap_squash (Lambda)       (None, 1152, 8)       0           primarycap_reshape[0][0]         \n",
      "____________________________________________________________________________________________________\n",
      "digitcaps (CapsuleLayer)         (None, 10, 16)        1474560     primarycap_squash[0][0]          \n",
      "____________________________________________________________________________________________________\n",
      "input_2 (InputLayer)             (None, 10)            0                                            \n",
      "____________________________________________________________________________________________________\n",
      "mask_1 (Mask)                    (None, 160)           0           digitcaps[0][0]                  \n",
      "                                                                   input_2[0][0]                    \n",
      "____________________________________________________________________________________________________\n",
      "capsnet (Length)                 (None, 10)            0           digitcaps[0][0]                  \n",
      "____________________________________________________________________________________________________\n",
      "decoder (Sequential)             (None, 28, 28, 1)     1411344     mask_1[0][0]                     \n",
      "====================================================================================================\n",
      "Total params: 8,215,568\n",
      "Trainable params: 8,215,568\n",
      "Non-trainable params: 0\n",
      "____________________________________________________________________________________________________\n"
     ]
    }
   ],
   "source": [
    "train_model.summary()"
   ]
  },
  {
   "cell_type": "code",
   "execution_count": 25,
   "metadata": {},
   "outputs": [],
   "source": [
    "def margin_loss(y_true, y_pred):\n",
    "    \"\"\"\n",
    "    Margin loss for Eq.(4). When y_true[i, :] contains not just one `1`, this loss should work too. Not test it.\n",
    "    :param y_true: [None, n_classes]\n",
    "    :param y_pred: [None, num_capsule]\n",
    "    :return: a scalar loss value.\n",
    "    \"\"\"\n",
    "    L = y_true * K.square(K.maximum(0., 0.9 - y_pred)) + \\\n",
    "        0.5 * (1 - y_true) * K.square(K.maximum(0., y_pred - 0.1))\n",
    "\n",
    "    return K.mean(K.sum(L, 1))"
   ]
  },
  {
   "cell_type": "markdown",
   "metadata": {},
   "source": [
    "## Train model"
   ]
  },
  {
   "cell_type": "code",
   "execution_count": 26,
   "metadata": {},
   "outputs": [],
   "source": [
    "from keras import callbacks\n",
    "log = callbacks.CSVLogger(save_dir + '/log.csv')"
   ]
  },
  {
   "cell_type": "code",
   "execution_count": 27,
   "metadata": {},
   "outputs": [],
   "source": [
    "tb = callbacks.TensorBoard(save_dir + '/tensorboard-logs', batch_size=batch_size)"
   ]
  },
  {
   "cell_type": "code",
   "execution_count": 28,
   "metadata": {},
   "outputs": [],
   "source": [
    "checkpoint = callbacks.ModelCheckpoint(save_dir + '/weights-{epoch:02d}.h5', monitor='val_capsnet_cc', \n",
    "                                       save_best_only=True, save_weights_only=True, verbose=1)"
   ]
  },
  {
   "cell_type": "code",
   "execution_count": 29,
   "metadata": {},
   "outputs": [],
   "source": [
    "lr_decay = callbacks.LearningRateScheduler(schedule=lambda epoch : learning_rate * (learning_rate_decay ** epoch))"
   ]
  },
  {
   "cell_type": "code",
   "execution_count": 30,
   "metadata": {},
   "outputs": [],
   "source": [
    "train_model.compile(optimizer = optimizers.Adam(lr=learning_rate),\n",
    "                   loss =[margin_loss, 'mse'],\n",
    "                   loss_weights = [1.0, lam_recon],\n",
    "                   metrics= {'capsnet': 'accuracy'})"
   ]
  },
  {
   "cell_type": "code",
   "execution_count": 31,
   "metadata": {},
   "outputs": [
    {
     "name": "stdout",
     "output_type": "stream",
     "text": [
      "Train on 60000 samples, validate on 10000 samples\n",
      "Epoch 1/10\n",
      "60000/60000 [==============================] - 3023s - loss: 0.0837 - capsnet_loss: 0.0621 - decoder_loss: 0.0553 - capsnet_acc: 0.9430 - val_loss: 0.0354 - val_capsnet_loss: 0.0187 - val_decoder_loss: 0.0427 - val_capsnet_acc: 0.9873"
     ]
    },
    {
     "name": "stderr",
     "output_type": "stream",
     "text": [
      "C:\\Users\\shuhua\\AppData\\Local\\Continuum\\anaconda3\\envs\\tensorflow-env\\lib\\site-packages\\keras\\callbacks.py:405: RuntimeWarning: Can save best model only with val_capsnet_cc available, skipping.\n",
      "  'skipping.' % (self.monitor), RuntimeWarning)\n"
     ]
    },
    {
     "name": "stdout",
     "output_type": "stream",
     "text": [
      "\n",
      "Epoch 2/10\n",
      "60000/60000 [==============================] - 3010s - loss: 0.0309 - capsnet_loss: 0.0159 - decoder_loss: 0.0383 - capsnet_acc: 0.9892 - val_loss: 0.0297 - val_capsnet_loss: 0.0159 - val_decoder_loss: 0.0350 - val_capsnet_acc: 0.9890\n",
      "Epoch 3/10\n",
      "60000/60000 [==============================] - 3015s - loss: 0.0237 - capsnet_loss: 0.0108 - decoder_loss: 0.0330 - capsnet_acc: 0.9925 - val_loss: 0.0218 - val_capsnet_loss: 0.0096 - val_decoder_loss: 0.0309 - val_capsnet_acc: 0.9921\n",
      "Epoch 4/10\n",
      "60000/60000 [==============================] - 3012s - loss: 0.0196 - capsnet_loss: 0.0080 - decoder_loss: 0.0296 - capsnet_acc: 0.9948 - val_loss: 0.0221 - val_capsnet_loss: 0.0111 - val_decoder_loss: 0.0279 - val_capsnet_acc: 0.9896\n",
      "Epoch 5/10\n",
      "60000/60000 [==============================] - 3009s - loss: 0.0160 - capsnet_loss: 0.0056 - decoder_loss: 0.0267 - capsnet_acc: 0.9967 - val_loss: 0.0180 - val_capsnet_loss: 0.0081 - val_decoder_loss: 0.0254 - val_capsnet_acc: 0.9925\n",
      "Epoch 6/10\n",
      "60000/60000 [==============================] - 3014s - loss: 0.0137 - capsnet_loss: 0.0042 - decoder_loss: 0.0243 - capsnet_acc: 0.9978 - val_loss: 0.0163 - val_capsnet_loss: 0.0072 - val_decoder_loss: 0.0231 - val_capsnet_acc: 0.9940\n",
      "Epoch 7/10\n",
      "60000/60000 [==============================] - 3016s - loss: 0.0116 - capsnet_loss: 0.0028 - decoder_loss: 0.0224 - capsnet_acc: 0.9985 - val_loss: 0.0146 - val_capsnet_loss: 0.0061 - val_decoder_loss: 0.0218 - val_capsnet_acc: 0.9943\n",
      "Epoch 8/10\n",
      "60000/60000 [==============================] - 3014s - loss: 0.0101 - capsnet_loss: 0.0019 - decoder_loss: 0.0209 - capsnet_acc: 0.9992 - val_loss: 0.0147 - val_capsnet_loss: 0.0067 - val_decoder_loss: 0.0202 - val_capsnet_acc: 0.9933\n",
      "Epoch 9/10\n",
      "60000/60000 [==============================] - 3014s - loss: 0.0091 - capsnet_loss: 0.0013 - decoder_loss: 0.0197 - capsnet_acc: 0.9994 - val_loss: 0.0150 - val_capsnet_loss: 0.0073 - val_decoder_loss: 0.0195 - val_capsnet_acc: 0.9928\n",
      "Epoch 10/10\n",
      "60000/60000 [==============================] - 3015s - loss: 0.0082 - capsnet_loss: 8.7433e-04 - decoder_loss: 0.0187 - capsnet_acc: 0.9997 - val_loss: 0.0126 - val_capsnet_loss: 0.0055 - val_decoder_loss: 0.0182 - val_capsnet_acc: 0.9945\n",
      "Trained model saved to './capnet_result/trained_model.h5'\n"
     ]
    }
   ],
   "source": [
    "train_model.fit([x_train, y_train], [y_train, x_train], batch_size=batch_size, epochs=epochs,\n",
    "                validation_data=[[x_test, y_test], [y_test, x_test]], callbacks=[log, tb, checkpoint, lr_decay])\n",
    "\n",
    "train_model.save_weights(save_dir + '/trained_model.h5')\n",
    "print('Trained model saved to \\'%s/trained_model.h5\\'' % save_dir)"
   ]
  },
  {
   "cell_type": "code",
   "execution_count": 36,
   "metadata": {},
   "outputs": [],
   "source": [
    "import csv\n",
    "from matplotlib import pyplot as plt\n",
    "%matplotlib inline\n",
    "\n",
    "def plot_log(filename, show=True):\n",
    "    # load data\n",
    "    keys = []\n",
    "    values = []\n",
    "    with open(filename, 'r') as f:\n",
    "        reader = csv.DictReader(f)\n",
    "        for row in reader:\n",
    "            if keys == []:\n",
    "                for key, value in row.items():\n",
    "                    keys.append(key)\n",
    "                    values.append(float(value))\n",
    "                continue\n",
    "\n",
    "            for _, value in row.items():\n",
    "                values.append(float(value))\n",
    "\n",
    "        values = np.reshape(values, newshape=(-1, len(keys)))\n",
    "        values[:,0] += 1\n",
    "\n",
    "    fig = plt.figure(figsize=(4,6))\n",
    "    fig.subplots_adjust(top=0.95, bottom=0.05, right=0.95)\n",
    "    fig.add_subplot(211)\n",
    "    for i, key in enumerate(keys):\n",
    "        if key.find('loss') >= 0 and not key.find('val') >= 0:  # training loss\n",
    "            plt.plot(values[:, 0], values[:, i], label=key)\n",
    "    plt.legend()\n",
    "    plt.title('Training loss')\n",
    "\n",
    "    fig.add_subplot(212)\n",
    "    for i, key in enumerate(keys):\n",
    "        if key.find('acc') >= 0:  # acc\n",
    "            plt.plot(values[:, 0], values[:, i], label=key)\n",
    "    plt.legend()\n",
    "    plt.title('Training and validation accuracy')\n",
    "\n",
    "    # fig.savefig('result/log.png')\n",
    "    if show:\n",
    "        plt.show()"
   ]
  },
  {
   "cell_type": "code",
   "execution_count": 37,
   "metadata": {},
   "outputs": [
    {
     "data": {
      "image/png": "[encoded data removed]",
      "text/plain": [
       "<matplotlib.figure.Figure at 0x27c007643c8>"
      ]
     },
     "metadata": {},
     "output_type": "display_data"
    }
   ],
   "source": [
    "plot_log(save_dir + '/log.csv', show=True)"
   ]
  },
  {
   "cell_type": "markdown",
   "metadata": {},
   "source": [
    "## Manipulate latent"
   ]
  },
  {
   "cell_type": "code",
   "execution_count": 41,
   "metadata": {},
   "outputs": [
    {
     "name": "stdout",
     "output_type": "stream",
     "text": [
      "(10000,)\n",
      "False\n",
      "sum(index):  974\n"
     ]
    }
   ],
   "source": [
    "manipulate_digit = 8\n",
    "index = np.argmax(y_test, 1) == manipulate_digit\n",
    "print(index.shape)\n",
    "print(index[0])\n",
    "print('sum(index): ', sum(index))"
   ]
  },
  {
   "cell_type": "code",
   "execution_count": 42,
   "metadata": {},
   "outputs": [
    {
     "name": "stdout",
     "output_type": "stream",
     "text": [
      "150\n"
     ]
    }
   ],
   "source": [
    "number = np.random.randint(low=0, high=sum(index) -1)\n",
    "print(number)"
   ]
  },
  {
   "cell_type": "code",
   "execution_count": 44,
   "metadata": {},
   "outputs": [
    {
     "name": "stdout",
     "output_type": "stream",
     "text": [
      "(28, 28, 1) (10,)\n",
      "[ 0.  0.  0.  0.  0.  0.  0.  0.  1.  0.]\n"
     ]
    }
   ],
   "source": [
    "manipulate_x, manipulate_y = x_test[index][number], y_test[index][number]\n",
    "print(manipulate_x.shape, manipulate_y.shape)\n",
    "print(manipulate_y)"
   ]
  },
  {
   "cell_type": "code",
   "execution_count": 45,
   "metadata": {},
   "outputs": [
    {
     "name": "stdout",
     "output_type": "stream",
     "text": [
      "(1, 28, 28, 1) (1, 10)\n"
     ]
    }
   ],
   "source": [
    "b_manipulate_x, b_manipulate_y = np.expand_dims(manipulate_x, 0), np.expand_dims(manipulate_y, 0)\n",
    "print(b_manipulate_x.shape, b_manipulate_y.shape)"
   ]
  },
  {
   "cell_type": "code",
   "execution_count": 46,
   "metadata": {},
   "outputs": [],
   "source": [
    "import math\n",
    "def combine_images(generated_images, height=None, width=None):\n",
    "    num = generated_images.shape[0]\n",
    "    if width is None and height is None:\n",
    "        width = int(math.sqrt(num))\n",
    "        height = int(math.ceil(float(num)/width))\n",
    "    elif width is not None and height is None:  # height not given\n",
    "        height = int(math.ceil(float(num)/width))\n",
    "    elif height is not None and width is None:  # width not given\n",
    "        width = int(math.ceil(float(num)/height))\n",
    "\n",
    "    shape = generated_images.shape[1:3]\n",
    "    image = np.zeros((height*shape[0], width*shape[1]),\n",
    "                     dtype=generated_images.dtype)\n",
    "    for index, img in enumerate(generated_images):\n",
    "        i = int(index/width)\n",
    "        j = index % width\n",
    "        image[i*shape[0]:(i+1)*shape[0], j*shape[1]:(j+1)*shape[1]] = \\\n",
    "            img[:, :, 0]\n",
    "    return image"
   ]
  },
  {
   "cell_type": "code",
   "execution_count": 47,
   "metadata": {},
   "outputs": [
    {
     "name": "stdout",
     "output_type": "stream",
     "text": [
      "(1, 28, 28, 1)\n"
     ]
    }
   ],
   "source": [
    "manipulate_noise = np.zeros([1, 10, 16])\n",
    "x_recons = []\n",
    "for dim in range(16):\n",
    "    for r in [-0.25, -0.2, -0.15, -0.1, -0.05, 0, 0.05, 0.1, 0.15, 0.2, 0.25]:\n",
    "            tmp = np.copy(manipulate_noise)\n",
    "            tmp[:,:,dim] = r\n",
    "            x_recon = manipulate_model.predict([b_manipulate_x, b_manipulate_y, tmp])\n",
    "            x_recons.append(x_recon)\n",
    "            \n",
    "print(x_recons[0].shape)"
   ]
  },
  {
   "cell_type": "code",
   "execution_count": 48,
   "metadata": {},
   "outputs": [
    {
     "name": "stdout",
     "output_type": "stream",
     "text": [
      "(176, 28, 28, 1)\n"
     ]
    }
   ],
   "source": [
    "x_recons = np.concatenate(x_recons)\n",
    "print(x_recons.shape)"
   ]
  },
  {
   "cell_type": "code",
   "execution_count": 51,
   "metadata": {},
   "outputs": [
    {
     "name": "stdout",
     "output_type": "stream",
     "text": [
      "manipulated result saved to ./capnet_result/manipulate-8.png\n"
     ]
    }
   ],
   "source": [
    "from PIL import Image\n",
    "img = combine_images(x_recons, height=16)\n",
    "constructed_img = img * 255\n",
    "Image.fromarray(constructed_img.astype(np.uint8)).save(save_dir + '/manipulate-%d.png' % manipulate_digit)\n",
    "print('manipulated result saved to %s/manipulate-%d.png' % (save_dir, manipulate_digit))"
   ]
  },
  {
   "cell_type": "code",
   "execution_count": 53,
   "metadata": {},
   "outputs": [
    {
     "data": {
      "text/plain": [
       "<function matplotlib.pyplot.show>"
      ]
     },
     "execution_count": 53,
     "metadata": {},
     "output_type": "execute_result"
    },
    {
     "data": {
      "image/png": "[encoded data removed]",
      "text/plain": [
       "<matplotlib.figure.Figure at 0x27c00968438>"
      ]
     },
     "metadata": {},
     "output_type": "display_data"
    }
   ],
   "source": [
    "from matplotlib import pyplot as plt\n",
    "plt.imshow(constructed_img.astype(np.uint8))\n",
    "plt.show"
   ]
  },
  {
   "cell_type": "markdown",
   "metadata": {},
   "source": [
    "## Test"
   ]
  },
  {
   "cell_type": "code",
   "execution_count": 55,
   "metadata": {},
   "outputs": [],
   "source": [
    "test_y_pred, test_x_recon = eval_model.predict(x_test, batch_size=100)"
   ]
  },
  {
   "cell_type": "code",
   "execution_count": 56,
   "metadata": {},
   "outputs": [
    {
     "name": "stdout",
     "output_type": "stream",
     "text": [
      "Test accuracy:  0.9945\n"
     ]
    }
   ],
   "source": [
    "print('Test accuracy: ', np.sum(np.argmax(test_y_pred, 1) == np.argmax(y_test, 1))/x_test.shape[0])"
   ]
  },
  {
   "cell_type": "code",
   "execution_count": 57,
   "metadata": {},
   "outputs": [],
   "source": [
    "test_img = combine_images(np.concatenate([x_test[:50], test_x_recon[:50]]))\n",
    "test_img_scale = test_img * 255\n",
    "Image.fromarray(test_img_scale.astype(np.uint8)).save(save_dir +\"/real_and_recon.png\")"
   ]
  },
  {
   "cell_type": "code",
   "execution_count": 58,
   "metadata": {},
   "outputs": [
    {
     "data": {
      "image/png": "[encoded data removed]",
      "text/plain": [
       "<matplotlib.figure.Figure at 0x27c00968198>"
      ]
     },
     "metadata": {},
     "output_type": "display_data"
    }
   ],
   "source": [
    "plt.imshow(plt.imread(save_dir +\"/real_and_recon.png\"))\n",
    "plt.show()"
   ]
  }
 ],
 "metadata": {
  "kernelspec": {
   "display_name": "Python 3",
   "language": "python",
   "name": "python3"
  },
  "language_info": {
   "codemirror_mode": {
    "name": "ipython",
    "version": 3
   },
   "file_extension": ".py",
   "mimetype": "text/x-python",
   "name": "python",
   "nbconvert_exporter": "python",
   "pygments_lexer": "ipython3",
   "version": "3.6.3"
  }
 },
 "nbformat": 4,
 "nbformat_minor": 2
}
